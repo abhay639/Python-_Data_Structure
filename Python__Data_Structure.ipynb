{
  "nbformat": 4,
  "nbformat_minor": 0,
  "metadata": {
    "colab": {
      "provenance": []
    },
    "kernelspec": {
      "name": "python3",
      "display_name": "Python 3"
    },
    "language_info": {
      "name": "python"
    }
  },
  "cells": [
    {
      "cell_type": "markdown",
      "source": [
        "**01. What are data structures, and why are they important ?**\n",
        "\n",
        " -> Data structures are specialized formats for organizing, processing, and storing data in a computer so that it can be accessed and modified efficiently. They define the relationship between data and the operations that can be performed on the data.\n",
        "\n",
        "**Efficiency**: Proper data structures lead to optimized code with faster performance (e.g., faster search, insert, delete).\n",
        "\n",
        "**Reusability**: Common data structures can be reused across various applications.\n",
        "\n",
        "**Abstraction**: They allow programmers to manage and manipulate data at a higher level.\n",
        "\n",
        "**Memory Management**: Some structures are more memory-efficient than others.\n",
        "\n",
        "**Problem Solving**: Many algorithms depend on efficient data structures (e.g., Dijkstra's algorithm uses priority queues)."
      ],
      "metadata": {
        "id": "ZpFo3DnuZcQ8"
      }
    },
    {
      "cell_type": "markdown",
      "source": [
        "**02**. **Explain the difference between mutable and immutable data types with examples ?**\n",
        "\n",
        "-> **Mutable**\n",
        "**Definition** - Can be changed after creation, May remain the same after changes , list, dict, set, bytearray.\n",
        "\n",
        "**Immutable**\n",
        "**Definition** - Cannot be changed after creation, Changes result in a new object & int, float, str, tuple, bool.\n",
        "\n",
        "**Mutable types can cause bugs if shared across different parts of a program.**\n",
        "\n",
        "**Immutable types are safer for things like keys in dictionaries or constants.**"
      ],
      "metadata": {
        "id": "ULhpqRzHaUSt"
      }
    },
    {
      "cell_type": "code",
      "source": [
        "#Mutable Example: list\n",
        "numbers = [1, 2, 3]\n",
        "print(id(numbers))  # Memory address before\n",
        "\n",
        "numbers.append(4)\n",
        "print(numbers)       # Output: [1, 2, 3, 4]\n",
        "print(id(numbers))  # Memory address is the same"
      ],
      "metadata": {
        "colab": {
          "base_uri": "https://localhost:8080/"
        },
        "id": "0B94rHEmZuWq",
        "outputId": "d51ca03b-1946-4aa2-d2da-437b0eebb5dd"
      },
      "execution_count": 1,
      "outputs": [
        {
          "output_type": "stream",
          "name": "stdout",
          "text": [
            "139893509527872\n",
            "[1, 2, 3, 4]\n",
            "139893509527872\n"
          ]
        }
      ]
    },
    {
      "cell_type": "code",
      "source": [
        "#Immutable Example: str\n",
        "name = \"Alice\"\n",
        "print(id(name))     # Memory address before\n",
        "\n",
        "name = name + \" Smith\"\n",
        "print(name)         # Output: \"Alice Smith\"\n",
        "print(id(name))     # Memory address changes"
      ],
      "metadata": {
        "colab": {
          "base_uri": "https://localhost:8080/"
        },
        "id": "jlauxig7gP_y",
        "outputId": "af4636ef-69ca-4168-f54c-2b9cc5eff1b7"
      },
      "execution_count": 2,
      "outputs": [
        {
          "output_type": "stream",
          "name": "stdout",
          "text": [
            "139893509470064\n",
            "Alice Smith\n",
            "139893509471472\n"
          ]
        }
      ]
    },
    {
      "cell_type": "markdown",
      "source": [
        "**03.** **What are the main differences between lists and tuples in Python ?**\n",
        "\n",
        " ->\n",
        " **Mutability**\n",
        "Lists are mutable, which means you can change their contents after creation—add, remove, or modify elements.\n",
        "\n",
        "Tuples are immutable, meaning once they’re created, their contents cannot be changed.\n",
        "\n",
        "**Syntax**\n",
        "Lists use square brackets: [ ]\n",
        "\n",
        "Tuples use parentheses: ( )\n",
        "\n",
        "**Performance**\n",
        "Tuples are generally faster than lists because they are immutable and require less memory.\n",
        "\n",
        "Lists are slower due to the extra features and flexibility.\n",
        "\n",
        "**Available Methods**\n",
        "Lists have more built-in methods like append(), remove(), sort(), etc.\n",
        "\n",
        "Tuples have only a few methods, mainly count() and index().\n",
        "\n",
        "**Use Cases**\n",
        "Use lists when you need a collection of items that can change (e.g., a to-do list).\n",
        "\n",
        "Use tuples when the collection should remain constant (e.g., days of the week, coordinates).\n",
        "\n",
        "**In short:**\n",
        "\n",
        "Use a list when you need flexibility.\n",
        "\n",
        "Use a tuple when you need safety and performance."
      ],
      "metadata": {
        "id": "FcJgMbvsguHy"
      }
    },
    {
      "cell_type": "code",
      "source": [
        "#Example pf List\n",
        "my_list = [1, 2, 3]\n",
        "my_list.append(4)\n",
        "print(my_list)"
      ],
      "metadata": {
        "colab": {
          "base_uri": "https://localhost:8080/"
        },
        "id": "j6SpUktkotVW",
        "outputId": "e6b0308b-11e9-4dbb-cabc-1c48c0a45ddc"
      },
      "execution_count": 3,
      "outputs": [
        {
          "output_type": "stream",
          "name": "stdout",
          "text": [
            "[1, 2, 3, 4]\n"
          ]
        }
      ]
    },
    {
      "cell_type": "code",
      "source": [
        "#Example of Tuple\n",
        "my_tuple = (1, 2, 3)\n",
        "# my_tuple.append(4)  # ❌ Error: 'tuple' object has no attribute 'append'\n",
        "print(my_tuple)"
      ],
      "metadata": {
        "colab": {
          "base_uri": "https://localhost:8080/"
        },
        "id": "kkhBVDBjo2Zc",
        "outputId": "cfeb48a1-98eb-4260-8fd9-7c307bd8711c"
      },
      "execution_count": 4,
      "outputs": [
        {
          "output_type": "stream",
          "name": "stdout",
          "text": [
            "(1, 2, 3)\n"
          ]
        }
      ]
    },
    {
      "cell_type": "markdown",
      "source": [
        "**04.** **Describe how dictionaries store data ?**\n",
        "\n",
        "-> A dictionary is a built-in data type that stores data in the form of key-value pairs.\n",
        "\n",
        "**my_dict = {\"name\": \"Alice\", \"age\": 25, \"city\": \"New York\"}**\n",
        "\n",
        "\"name\", \"age\", and \"city\" are keys.\n",
        "\n",
        "\"Alice\", 25, and \"New York\" are the corresponding values.\n",
        "\n",
        "Data Is Stored Internally\n",
        "\n",
        "**Hashing the Key**\n",
        "When you use a key like \"name\", Python computes a hash value using the built-in hash() function.\n",
        "\n",
        "This hash value determines where the value is stored in memory.\n",
        "\n",
        "print(hash(\"name\"))\n",
        "\n",
        "**Storing Key-Value Pairs**\n",
        "The key and value are stored in a slot (bucket) based on the hash.\n",
        "\n",
        "This allows constant time lookup, on average.\n",
        "\n",
        "**Accessing a Value**\n",
        "print(my_dict[\"city\"])\n",
        "\n",
        "**Collision Handling**\n",
        "If two different keys produce the same hash (a collision), Python handles it using internal methods (e.g. probing or chaining), so both keys can still be stored safely."
      ],
      "metadata": {
        "id": "9ppQlB5cpST1"
      }
    },
    {
      "cell_type": "code",
      "source": [
        "student = {\"name\": \"Alice\", \"age\": 20}\n",
        "\n",
        "# Get a value\n",
        "print(student[\"age\"])  # 20\n",
        "\n",
        "# Add a new key-value pair\n",
        "student[\"grade\"] = \"A\"\n",
        "\n",
        "# Update a value\n",
        "student[\"age\"] = 21\n",
        "\n",
        "# Delete a key-value pair\n",
        "del student[\"grade\"]\n",
        "\n",
        "# Final dictionary\n",
        "print(student)  # {'name': 'Alice', 'age': 21}\n"
      ],
      "metadata": {
        "colab": {
          "base_uri": "https://localhost:8080/"
        },
        "id": "62RXae64rhBb",
        "outputId": "9e9e0e41-76c5-4441-f744-331d3f89bd33"
      },
      "execution_count": 5,
      "outputs": [
        {
          "output_type": "stream",
          "name": "stdout",
          "text": [
            "20\n",
            "{'name': 'Alice', 'age': 21}\n"
          ]
        }
      ]
    },
    {
      "cell_type": "markdown",
      "source": [
        "**05.** **Why might you use a set instead of a list in Python ?**\n",
        "\n",
        " -> Use a set instead of a list in Python for several reasons, especially when uniqueness and performance are important:\n",
        "\n",
        "**Eliminating Duplicates -**\n",
        "Sets automatically remove duplicate elements.\n",
        "'''my_list = [1, 2, 2, 3]'''\n",
        "'''my_set = set(my_list)  # Result: {1, 2, 3}'''\n",
        "\n",
        "**Faster Membership Testing -**\n",
        "Checking if an item is in a set (x in my_set) is on average O(1) time complexity.\n",
        "\n",
        "In a list, it’s O(n) because it has to scan through the elements.\n",
        "\n",
        "**Set Operations -**\n",
        "Sets support mathematical set operations like union (|), intersection (&), difference (-), and symmetric difference (^) which are very convenient and efficient.\n",
        "\n",
        "**When not to use a set:-**\n",
        "When you need to maintain order (use a list or collections.OrderedDict).\n",
        "\n",
        "When duplicates are meaningful or allowed."
      ],
      "metadata": {
        "id": "T3VSABw3rtDa"
      }
    },
    {
      "cell_type": "code",
      "source": [
        "# List with duplicates\n",
        "my_list = [1, 2, 2, 3, 4, 4, 5]\n",
        "\n",
        "# Convert to set to remove duplicates\n",
        "my_set = set(my_list)\n",
        "\n",
        "print(\"List:\", my_list)\n",
        "print(\"Set:\", my_set)\n",
        "\n",
        "# Membership test\n",
        "print(3 in my_list)\n",
        "print(3 in my_set)\n"
      ],
      "metadata": {
        "colab": {
          "base_uri": "https://localhost:8080/"
        },
        "id": "nEoET1iqD2_0",
        "outputId": "1cfc684f-f3a8-4ff2-b9ab-e0afedfbfa73"
      },
      "execution_count": 1,
      "outputs": [
        {
          "output_type": "stream",
          "name": "stdout",
          "text": [
            "List: [1, 2, 2, 3, 4, 4, 5]\n",
            "Set: {1, 2, 3, 4, 5}\n",
            "True\n",
            "True\n"
          ]
        }
      ]
    },
    {
      "cell_type": "markdown",
      "source": [
        "**06.** **What is a string in Python, and how is it different from a list ?**\n",
        "\n",
        "-> In Python, a **string** is a sequence of characters, while a **list** is a sequence of items (elements), which can be of any data type."
      ],
      "metadata": {
        "id": "Anr-zGtXEIUw"
      }
    },
    {
      "cell_type": "code",
      "source": [
        "my_string = \"hello\"\n",
        "print(my_string[1])\n",
        "# my_string[0] = 'H'  # ❌ Error: strings are immutable"
      ],
      "metadata": {
        "colab": {
          "base_uri": "https://localhost:8080/"
        },
        "id": "v1T03YU4F2Ip",
        "outputId": "82a89c4a-6361-4ace-8883-02e6556ae7db"
      },
      "execution_count": 2,
      "outputs": [
        {
          "output_type": "stream",
          "name": "stdout",
          "text": [
            "e\n"
          ]
        }
      ]
    },
    {
      "cell_type": "code",
      "source": [
        "# String: a single piece of text\n",
        "word = \"cat\"\n",
        "\n",
        "# List: a collection of characters (or anything else)\n",
        "letters = ['c', 'a', 't']\n",
        "\n",
        "# Accessing elements\n",
        "print(word[0])\n",
        "print(letters[0])\n",
        "\n",
        "# Trying to change them\n",
        "letters[0] = 'b'   # ✅ Lists are mutable\n",
        "\n",
        "print(word)       # Still 'cat'\n",
        "print(letters)    # ['b', 'a', 't']\n"
      ],
      "metadata": {
        "colab": {
          "base_uri": "https://localhost:8080/"
        },
        "id": "Dm8hcdkaGDq_",
        "outputId": "2aab69af-d0b9-4c31-fd1b-6b8b68285c39"
      },
      "execution_count": 3,
      "outputs": [
        {
          "output_type": "stream",
          "name": "stdout",
          "text": [
            "c\n",
            "c\n",
            "cat\n",
            "['b', 'a', 't']\n"
          ]
        }
      ]
    },
    {
      "cell_type": "markdown",
      "source": [
        "**07.** **How do tuples ensure data integrity in Python ?**\n",
        "\n",
        "-> Tuples help ensure data integrity in Python by being immutable, meaning once created, their contents cannot be changed.\n",
        "\n",
        "**Why immutability matters for data integrity:-**\n",
        "\n",
        "**No Accidental Changes -**\n",
        "Since you can’t modify a tuple, you protect the data from unintentional edits in your code.\n",
        "\n",
        "'person = (\"Alice\", 30)'\n",
        "\n",
        "'person[1] = 31  \"\"\"Error: tuples are immutable'\n",
        "\n",
        "**Safe to Use as Dictionary Keys or Set Elements -**\n",
        "\n",
        "Tuples can be used as keys in dictionaries because they can’t change (lists can’t).\n",
        "\n",
        "'coordinates = {(10, 20): \"Home\"}'\n",
        "\n",
        "**Reliable for Constant Values -**\n",
        "\n",
        "If you have a fixed set of values that shouldn’t change (e.g., days of the week), tuples guarantee they stay constant.\n",
        "\n",
        "'days = (\"Mon\", \"Tue\", \"Wed\", \"Thu\", \"Fri\")'\n",
        "\n",
        "**Tuples “lock in” your data, making them ideal for read-only or fixed information that shouldn’t be altered.**\n"
      ],
      "metadata": {
        "id": "7mi1SFrnGgbf"
      }
    },
    {
      "cell_type": "markdown",
      "source": [
        "**08.** **What is a hash table, and how does it relate to dictionaries in Python ?**\n",
        "\n",
        "-> A hash table is a data structure that stores key-value pairs and uses a hash function to compute an index (also called a hash code) into an array of buckets where the value is stored.\n",
        "\n",
        "**Working:-** Hash Function takes a key and returns a number (the index).\n",
        "\n",
        "This index points to a bucket (location) where the value is stored.\n",
        "\n",
        "If multiple keys hash to the same index (called a collision), Python handles it internally (e.g. via chaining or open addressing).\n",
        "\n",
        "The built-in **dictionary (dict`)** is an implementation of a hash table.\n",
        "\n",
        "Hash Table - Data structure for fast key-value access.\n",
        "\n",
        "Dictionary - Python’s built-in hash table\n",
        "\n",
        "Hash Function\t- Converts key to index\n",
        "\n",
        "Fast Access\t- O(1) average time for lookups"
      ],
      "metadata": {
        "id": "8yJVRlnCI0cC"
      }
    },
    {
      "cell_type": "code",
      "source": [
        "# Dictionary = Hash table\n",
        "my_dict = {\"apple\": 3, \"banana\": 5}\n",
        "\n",
        "# Hash function maps 'apple' → index\n",
        "# Python stores value 3 at that location\n",
        "print(my_dict[\"apple\"])"
      ],
      "metadata": {
        "colab": {
          "base_uri": "https://localhost:8080/"
        },
        "id": "LIE7fDupJdCz",
        "outputId": "2a4a26f4-dc46-4952-d4f1-6c4225110036"
      },
      "execution_count": 4,
      "outputs": [
        {
          "output_type": "stream",
          "name": "stdout",
          "text": [
            "3\n"
          ]
        }
      ]
    },
    {
      "cell_type": "markdown",
      "source": [
        "**09.** **Can lists contain different data types in Python ?**\n",
        "\n",
        "-> Yes, lists can contain different data types in Python.\n",
        "\n",
        "Python lists are heterogeneous, meaning you can store mixed data types in a single list — including integers, strings, floats, other lists, even functions or objects."
      ],
      "metadata": {
        "id": "7NQBUxSjJmyK"
      }
    },
    {
      "cell_type": "code",
      "source": [
        "mixed_list = [42, \"hello\", 3.14, True, [1, 2, 3]]\n",
        "\n",
        "print(mixed_list[0])\n",
        "print(mixed_list[1])\n",
        "print(mixed_list[2])\n",
        "print(mixed_list[3])\n",
        "print(mixed_list[4])\n",
        "\n",
        "#This flexibility makes lists powerful for general-purpose data handling, but you should use it wisely — especially in larger or more structured programs where consistent types may be easier to manage."
      ],
      "metadata": {
        "colab": {
          "base_uri": "https://localhost:8080/"
        },
        "id": "yrfT1gPMKXsU",
        "outputId": "2be2b826-8ab1-41e0-b1a9-4f7a7d5fa6cc"
      },
      "execution_count": 8,
      "outputs": [
        {
          "output_type": "stream",
          "name": "stdout",
          "text": [
            "42\n",
            "hello\n",
            "3.14\n",
            "True\n",
            "[1, 2, 3]\n"
          ]
        }
      ]
    },
    {
      "cell_type": "markdown",
      "source": [
        "**10.** **Explain why strings are immutable in Python ?**\n",
        "\n",
        "-> Strings are immutable in Python, meaning once a string is created, it cannot be changed. This design is intentional and provides several important benefits:\n",
        "\n",
        "**Data Safety -**\n",
        "Since strings can’t be changed, they are safe to use in functions or as keys in dictionaries.\n",
        "'my_dict = {\"name\": \"Alice\"}  # Strings can be dictionary keys'\n",
        "\n",
        "**Efficiency and Performance -**\n",
        "Python interns some strings (reuses identical ones in memory) for speed and memory efficiency. This only works reliably if strings are immutable.\n",
        "\n",
        "**Hashability -**\n",
        "Immutability allows strings to be hashable (i.e., have a fixed hash value), which is required for use in sets and dictionaries.\n",
        "\n",
        "**Avoiding Bugs -**\n",
        "If strings were mutable, it would be easy to accidentally change them and introduce hard-to-find bugs:\n",
        "\n",
        "name = \"John\"\n",
        "\n",
        "'name[0] = \"P\"  # ❌ This would be dangerous if allowed'"
      ],
      "metadata": {
        "id": "yjJo4yMnKmbO"
      }
    },
    {
      "cell_type": "code",
      "source": [
        "s = \"hello\"\n",
        "# s[0] = \"H\"  # ❌ Error: strings are immutable\n",
        "s = \"H\" + s[1:]  # ✅ Create a new string instead\n",
        "print(s)\n"
      ],
      "metadata": {
        "colab": {
          "base_uri": "https://localhost:8080/"
        },
        "id": "HshCiRWbQLyw",
        "outputId": "82b21de2-5dfd-4625-dd0a-b5bc5c83ccaa"
      },
      "execution_count": 9,
      "outputs": [
        {
          "output_type": "stream",
          "name": "stdout",
          "text": [
            "Hello\n"
          ]
        }
      ]
    },
    {
      "cell_type": "markdown",
      "source": [
        "**11.** **What advantages do dictionaries offer over lists for certain tasks?**\n",
        "\n",
        "-> Fast lookups using keys (O(1) time).\n",
        "\n",
        "Key-based access is more meaningful than index-based access.\n",
        "\n",
        "Ideal for associating related data, like {\"name\": \"Alice\", \"age\": 30}."
      ],
      "metadata": {
        "id": "QH7tPYO4QWm3"
      }
    },
    {
      "cell_type": "code",
      "source": [
        "# Dictionary: fast key-based lookup\n",
        "person = {\"name\": \"Alice\", \"age\": 30}\n",
        "print(person[\"name\"])  # 'Alice'\n",
        "\n",
        "# List: slower index-based lookup\n",
        "data = [\"Alice\", 30]\n",
        "print(data[0])  # 'Alice'"
      ],
      "metadata": {
        "colab": {
          "base_uri": "https://localhost:8080/"
        },
        "id": "a_uEaRGucJa8",
        "outputId": "33dd239e-0566-406c-8588-d3ef7045570e"
      },
      "execution_count": 10,
      "outputs": [
        {
          "output_type": "stream",
          "name": "stdout",
          "text": [
            "Alice\n",
            "Alice\n"
          ]
        }
      ]
    },
    {
      "cell_type": "markdown",
      "source": [
        "**12.** **Describe a scenario where using a tuple would be preferable over a list?**\n",
        "\n",
        "-> When you want immutable data, such as fixed coordinates:-\n",
        "\n",
        "'''location = (35.6895, 139.6917)  # Latitude, Longitude'''\n",
        "\n",
        "Also useful as keys in dictionaries."
      ],
      "metadata": {
        "id": "AiuHUl8ScQTd"
      }
    },
    {
      "cell_type": "code",
      "source": [
        "# Tuples are immutable and hashable\n",
        "location = (35.6895, 139.6917)\n",
        "# Can be used as dict keys\n",
        "places = {location: \"Tokyo\"}"
      ],
      "metadata": {
        "id": "yCFnAQYqrzNN"
      },
      "execution_count": 14,
      "outputs": []
    },
    {
      "cell_type": "markdown",
      "source": [
        "**13.** **How do sets handle duplicate values in Python?**\n",
        "\n",
        "-> In Python, sets automatically remove duplicate values.\n",
        "\n",
        "A set is an unordered collection of unique elements. When you create a set, any duplicates are silently discarded.\n",
        "\n",
        "Even though the list had multiple 2s and 3s, the set contains each number only once.\n",
        "\n",
        "Sets rely on hashing, and each element must have a unique hash.\n",
        "\n",
        "This design ensures fast lookup and uniqueness by default."
      ],
      "metadata": {
        "id": "_kvxexfhsV5S"
      }
    },
    {
      "cell_type": "code",
      "source": [
        "my_list = [1, 2, 2, 3, 3, 3]\n",
        "my_set = set(my_list)\n",
        "print(my_set)  # Output: {1, 2, 3}"
      ],
      "metadata": {
        "colab": {
          "base_uri": "https://localhost:8080/"
        },
        "id": "R1EfSO8ys3XX",
        "outputId": "85b4e002-ec97-476e-f4e8-8b42e22f77b0"
      },
      "execution_count": 15,
      "outputs": [
        {
          "output_type": "stream",
          "name": "stdout",
          "text": [
            "{1, 2, 3}\n"
          ]
        }
      ]
    },
    {
      "cell_type": "markdown",
      "source": [
        "**14.** **How does the in keyword work differently for lists and dictionaries?**\n",
        "\n",
        "->\n",
        "\n",
        "List: Checks if a value exists in the list (O(n) time).\n",
        "\n",
        "Dictionary: Checks if a key exists (O(1) average time)."
      ],
      "metadata": {
        "id": "FRi78xB1s7TP"
      }
    },
    {
      "cell_type": "code",
      "source": [
        "fruits = [\"apple\", \"banana\", \"cherry\"]\n",
        "print(\"apple\" in fruits)\n",
        "print(\"grape\" in fruits)"
      ],
      "metadata": {
        "colab": {
          "base_uri": "https://localhost:8080/"
        },
        "id": "Eef8S___tpXk",
        "outputId": "39deb268-4480-4968-a7b0-8b8ef6e4cd8a"
      },
      "execution_count": 17,
      "outputs": [
        {
          "output_type": "stream",
          "name": "stdout",
          "text": [
            "True\n",
            "False\n"
          ]
        }
      ]
    },
    {
      "cell_type": "code",
      "source": [
        "person = {\"name\": \"Alice\", \"age\": 30}\n",
        "print(\"name\" in person)\n",
        "print(\"Alice\" in person)"
      ],
      "metadata": {
        "colab": {
          "base_uri": "https://localhost:8080/"
        },
        "id": "sFwegWxGtw-5",
        "outputId": "e6eda056-64fb-46c3-be39-be1a5decbf0a"
      },
      "execution_count": 19,
      "outputs": [
        {
          "output_type": "stream",
          "name": "stdout",
          "text": [
            "True\n",
            "False\n"
          ]
        }
      ]
    },
    {
      "cell_type": "markdown",
      "source": [
        "**15.** **Can you modify the elements of a tuple? Explain why or why not.**\n",
        "\n",
        "->\n",
        "No, you cannot modify the elements of a tuple in Python because tuples are immutable.\n",
        "\n",
        "Once a tuple is created, you can't change, add, or remove any of its elements.\n",
        "\n",
        "t = (1, 2, 3)\n",
        "\n",
        "'t[0] = 10  # ❌ TypeError: 'tuple' object does not support item assignment'\n",
        "\n",
        "**Why are tuples immutable:-**\n",
        "\n",
        "Data integrity - Prevents accidental changes.\n",
        "\n",
        "Hashability - Tuples can be used as dictionary keys or set elements.\n",
        "\n",
        "Efficiency - Immutability allows for performance optimizations.\n",
        "\n",
        "While the tuple itself is immutable, if it contains mutable elements (like a list), those elements can be modified.\n",
        "\n",
        "the tuple structure is fixed, but mutable objects inside it can still change."
      ],
      "metadata": {
        "id": "pn7aruCQuRK2"
      }
    },
    {
      "cell_type": "code",
      "source": [
        "t = (1, [2, 3])\n",
        "t[1][0] = 99\n",
        "print(t)"
      ],
      "metadata": {
        "colab": {
          "base_uri": "https://localhost:8080/"
        },
        "id": "Yjdm9SxuvaLX",
        "outputId": "73f6c24d-44a2-4e1f-c3d3-888da7c266b7"
      },
      "execution_count": 20,
      "outputs": [
        {
          "output_type": "stream",
          "name": "stdout",
          "text": [
            "(1, [99, 3])\n"
          ]
        }
      ]
    },
    {
      "cell_type": "markdown",
      "source": [
        "**16.** **What is a nested dictionary, and give an example of its use case?**\n",
        "\n",
        "-> A nested dictionary is a dictionary inside another dictionary. It allows you to store complex, structured data in a clear and organized way.\n",
        "\n",
        "**Use Case:-**\n",
        "\n",
        "Nested dictionaries are great for representing structured data such as:\n",
        "\n",
        "User profiles\n",
        "\n",
        "Database records\n",
        "\n",
        "Configuration files\n",
        "\n",
        "JSON data from APIs\n"
      ],
      "metadata": {
        "id": "QMdmvmn2vd5f"
      }
    },
    {
      "cell_type": "code",
      "source": [
        "# Nested dictionary of student data\n",
        "students = {\n",
        "    \"alice\": {\n",
        "        \"age\": 20,\n",
        "        \"grade\": \"A\",\n",
        "        \"courses\": [\"Math\", \"Physics\"]\n",
        "    },\n",
        "    \"bob\": {\n",
        "        \"age\": 22,\n",
        "        \"grade\": \"B\",\n",
        "        \"courses\": [\"English\", \"History\"]\n",
        "    }\n",
        "}\n",
        "\n",
        "# Accessing nested data\n",
        "print(students[\"alice\"][\"grade\"])\n",
        "print(students[\"bob\"][\"courses\"][1])"
      ],
      "metadata": {
        "colab": {
          "base_uri": "https://localhost:8080/"
        },
        "id": "kuMsPPqwwW8s",
        "outputId": "6366b3a7-0228-4fe6-95b3-6357dbd92e65"
      },
      "execution_count": 21,
      "outputs": [
        {
          "output_type": "stream",
          "name": "stdout",
          "text": [
            "A\n",
            "History\n"
          ]
        }
      ]
    },
    {
      "cell_type": "markdown",
      "source": [
        "**17.** **Describe the time complexity of accessing elements in a dictionary?**\n",
        "\n",
        "-> **How It Works:-**\n",
        "\n",
        "Dictionaries use a hash table under the hood. When you do dict[key], Python:\n",
        "\n",
        "Calculates the hash of the key.\n",
        "\n",
        "Uses the hash to find the index (bucket) in an internal array.\n",
        "\n",
        "Retrieves the value from that bucket.\n",
        "\n",
        "**Time Complexity:-**\n",
        "\n",
        "Average case:\n",
        "\n",
        "✅ O(1) — Constant time, no matter how big the dictionary is.\n",
        "\n",
        "Worst case:\n",
        "\n",
        "❌ O(n) — If all keys hash to the same bucket (rare due to good hash functions).\n"
      ],
      "metadata": {
        "id": "VQOuSREYwfqw"
      }
    },
    {
      "cell_type": "code",
      "source": [
        "data = {\"name\": \"Alice\", \"age\": 30, \"city\": \"New York\"}\n",
        "\n",
        "# Access is fast\n",
        "print(data[\"name\"])\n",
        "print(data[\"city\"])"
      ],
      "metadata": {
        "colab": {
          "base_uri": "https://localhost:8080/"
        },
        "id": "zz5MLc6KxHSY",
        "outputId": "54b8d380-ac4d-4245-dab2-c2226241f198"
      },
      "execution_count": 22,
      "outputs": [
        {
          "output_type": "stream",
          "name": "stdout",
          "text": [
            "Alice\n",
            "New York\n"
          ]
        }
      ]
    },
    {
      "cell_type": "markdown",
      "source": [
        "**18.** **In what situations are lists preferred over dictionaries?**\n",
        "\n",
        "->Lists are better than dictionaries in situations where:\n",
        "\n",
        "**Order Matters:-**\n",
        "Lists preserve element order naturally and are easy to sort or reverse."
      ],
      "metadata": {
        "id": "oUZV-RimxcgM"
      }
    },
    {
      "cell_type": "code",
      "source": [
        "tasks = [\"wake up\", \"brush teeth\", \"eat breakfast\"]\n",
        "print(tasks[0])"
      ],
      "metadata": {
        "colab": {
          "base_uri": "https://localhost:8080/"
        },
        "id": "34Slpto6yoiP",
        "outputId": "9d54b5a3-ab07-430a-87c6-0f55d506f707"
      },
      "execution_count": 23,
      "outputs": [
        {
          "output_type": "stream",
          "name": "stdout",
          "text": [
            "wake up\n"
          ]
        }
      ]
    },
    {
      "cell_type": "markdown",
      "source": [
        "**No Key-Value Relationship Needed:-**\n",
        "When data doesn't need labels or identifiers — just a sequence of items."
      ],
      "metadata": {
        "id": "V--x10I_yrpB"
      }
    },
    {
      "cell_type": "code",
      "source": [
        "numbers = [10, 20, 30]"
      ],
      "metadata": {
        "id": "s2dAuCBqzhTS"
      },
      "execution_count": null,
      "outputs": []
    },
    {
      "cell_type": "markdown",
      "source": [
        "**Simple Iteration:-**\n",
        "Lists are ideal for looping through items one by one."
      ],
      "metadata": {
        "id": "FKa7oUn0zkW8"
      }
    },
    {
      "cell_type": "code",
      "source": [
        "for item in [\"a\", \"b\", \"c\"]:\n",
        "    print(item)"
      ],
      "metadata": {
        "colab": {
          "base_uri": "https://localhost:8080/"
        },
        "id": "J-OWL_nizrLo",
        "outputId": "5f630503-25cc-4a1e-93d4-a47539f0281d"
      },
      "execution_count": 24,
      "outputs": [
        {
          "output_type": "stream",
          "name": "stdout",
          "text": [
            "a\n",
            "b\n",
            "c\n"
          ]
        }
      ]
    },
    {
      "cell_type": "markdown",
      "source": [
        "**Index-Based Access or Slicing:-**\n",
        "Lists allow accessing elements by position and support slicing."
      ],
      "metadata": {
        "id": "3I41VGgmz6W4"
      }
    },
    {
      "cell_type": "code",
      "source": [
        "letters = [\"a\", \"b\", \"c\", \"d\"]\n",
        "print(letters[1:3])"
      ],
      "metadata": {
        "colab": {
          "base_uri": "https://localhost:8080/"
        },
        "id": "WcBylmkn0AnY",
        "outputId": "51390038-cf92-4580-eed0-98d436f0f06a"
      },
      "execution_count": 25,
      "outputs": [
        {
          "output_type": "stream",
          "name": "stdout",
          "text": [
            "['b', 'c']\n"
          ]
        }
      ]
    },
    {
      "cell_type": "markdown",
      "source": [
        "**Duplicates Are Allowed:-**\n",
        "Lists can contain repeated values, which dictionaries can’t (for keys)."
      ],
      "metadata": {
        "id": "iLjx9vK-0LDA"
      }
    },
    {
      "cell_type": "code",
      "source": [
        "votes = [\"Alice\", \"Bob\", \"Alice\"]"
      ],
      "metadata": {
        "id": "Ea2Vcu4Y0PoN"
      },
      "execution_count": 26,
      "outputs": []
    },
    {
      "cell_type": "markdown",
      "source": [
        "**19.** **Why are dictionaries considered unordered, and how does that affect data retrieval?**\n",
        "\n",
        "-> dictionaries in Python were considered unordered because they didn’t preserve the insertion order of key-value pairs — especially before Python 3.7\n",
        "\n",
        "**Before Python 3.7:-**\n",
        "\n",
        "Dictionaries did not guarantee the order of items.\n",
        "\n",
        "The internal storage was optimized for fast access, not for order.\n",
        "\n",
        "'d = {\"a\": 1, \"b\": 2, \"c\": 3}'\n",
        "\n",
        "**Python 3.7+ and Later:-**\n",
        "\n",
        "Dictionaries do preserve insertion order, but they’re still logically unordered in concept.\n",
        "\n",
        "This means you should not rely on order unless you explicitly need it.\n",
        "\n",
        "**Order is preserved-**"
      ],
      "metadata": {
        "id": "aMqSS5Lx0UTq"
      }
    },
    {
      "cell_type": "code",
      "source": [
        "# Order is preserved\n",
        "d = {\"x\": 1, \"y\": 2, \"z\": 3}\n",
        "print(d)"
      ],
      "metadata": {
        "colab": {
          "base_uri": "https://localhost:8080/"
        },
        "id": "vuMHD9862CDy",
        "outputId": "70e1b5da-553f-4fd1-a99c-370d37a3e21d"
      },
      "execution_count": 27,
      "outputs": [
        {
          "output_type": "stream",
          "name": "stdout",
          "text": [
            "{'x': 1, 'y': 2, 'z': 3}\n"
          ]
        }
      ]
    },
    {
      "cell_type": "markdown",
      "source": [
        "**How It Affects Data Retrieval:-**\n",
        "\n",
        "Access by key is fast (O(1)), but you can't access items by position like a list:"
      ],
      "metadata": {
        "id": "kv7EIQvQ2gep"
      }
    },
    {
      "cell_type": "code",
      "source": [
        "data = {\"name\": \"Alice\", \"age\": 30}\n",
        "# data[0] ❌ Invalid – no indexing\n",
        "print(data[\"name\"])"
      ],
      "metadata": {
        "colab": {
          "base_uri": "https://localhost:8080/"
        },
        "id": "cVVHXrVY2mzf",
        "outputId": "9022ea52-5acd-4917-f818-4dd6ba236dc5"
      },
      "execution_count": 28,
      "outputs": [
        {
          "output_type": "stream",
          "name": "stdout",
          "text": [
            "Alice\n"
          ]
        }
      ]
    },
    {
      "cell_type": "markdown",
      "source": [
        "**20.** **Explain the difference between a list and a dictionary in terms of data retrieval?**\n",
        "\n",
        "->The way data is retrieved in a list and a dictionary in Python is quite different, as they are designed for different use cases.\n",
        "\n",
        "**Retrieval by Index (List)**\n",
        "\n",
        "**List**: Data is accessed using an index (position of an item in the sequence).\n",
        "\n",
        "**Order matters**: The data is retrieved in the order the items are stored.\n",
        "\n",
        "**Slower for searching specific items**: If you want to find an element by value, you need to loop through the list.\n",
        "\n",
        "Time Complexity:\n",
        "\n",
        "Access by index: O(1) – Very fast.\n",
        "\n",
        "Search for value: O(n) – Slower for large lists."
      ],
      "metadata": {
        "id": "ufY3bW--24_K"
      }
    },
    {
      "cell_type": "code",
      "source": [
        "# List Example\n",
        "fruits = [\"apple\", \"banana\", \"cherry\"]\n",
        "print(fruits[1])"
      ],
      "metadata": {
        "colab": {
          "base_uri": "https://localhost:8080/"
        },
        "id": "JzkDqlPQ3SLy",
        "outputId": "f0622933-dc54-4ca8-f21d-538b939af3d2"
      },
      "execution_count": 29,
      "outputs": [
        {
          "output_type": "stream",
          "name": "stdout",
          "text": [
            "banana\n"
          ]
        }
      ]
    },
    {
      "cell_type": "markdown",
      "source": [
        "**Retrieval by Key (Dictionary)**\n",
        "\n",
        "**Dictionary**: Data is accessed using a key (unique identifier associated with the value).\n",
        "\n",
        "**Key-based lookup**: A dictionary allows you to quickly retrieve the value associated with a particular key.\n",
        "\n",
        "**No ordering requirement**: Although dictionaries preserve order since Python 3.7, the primary focus is on key-based access rather than the order of insertion.\n",
        "\n",
        "**Time Complexity**:\n",
        "\n",
        "Access by key: O(1) – Very fast, on average.\n",
        "\n",
        "Search for key: O(1) – Fast for large datasets."
      ],
      "metadata": {
        "id": "8zhUtO483WI8"
      }
    },
    {
      "cell_type": "code",
      "source": [
        "# Dictionary Example\n",
        "person = {\"name\": \"Alice\", \"age\": 30}\n",
        "print(person[\"name\"])"
      ],
      "metadata": {
        "colab": {
          "base_uri": "https://localhost:8080/"
        },
        "id": "3-otsjIH3ojx",
        "outputId": "56bfb0c8-81dd-47f7-a2f8-383595f77efe"
      },
      "execution_count": 30,
      "outputs": [
        {
          "output_type": "stream",
          "name": "stdout",
          "text": [
            "Alice\n"
          ]
        }
      ]
    }
  ]
}